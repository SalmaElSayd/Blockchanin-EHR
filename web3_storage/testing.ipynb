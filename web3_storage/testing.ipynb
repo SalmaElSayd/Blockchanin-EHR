{
 "cells": [
  {
   "cell_type": "code",
   "execution_count": null,
   "metadata": {},
   "outputs": [
    {
     "ename": "",
     "evalue": "",
     "output_type": "error",
     "traceback": [
      "\u001b[1;31mCanceled future for execute_request message before replies were done"
     ]
    },
    {
     "ename": "",
     "evalue": "",
     "output_type": "error",
     "traceback": [
      "\u001b[1;31mThe Kernel crashed while executing code in the the current cell or a previous cell. Please review the code in the cell(s) to identify a possible cause of the failure. Click <a href='https://aka.ms/vscodeJupyterKernelCrash'>here</a> for more info. View Jupyter <a href='command:jupyter.viewOutput'>log</a> for further details."
     ]
    }
   ],
   "source": [
    "from saveInitialRecord import initial_record\n",
    "\n",
    "p=initial_record()\n",
    "p"
   ]
  },
  {
   "cell_type": "code",
   "execution_count": 5,
   "metadata": {},
   "outputs": [],
   "source": [
    "class initial_record:\n",
    "\n",
    "    def __init__(self):\n",
    "        pass\n",
    "    # def __init__(self,patientId,name,age,weight,height,female,blood_pressure,blood_glucose,pulse,oxygen_level ):\n",
    "    #     self.patientId = patientId\n",
    "    #     self.name = name\n",
    "    #     self.age = age\n",
    "    #     self.weight = weight\n",
    "    #     self.height = height\n",
    "    #     self.female = female\n",
    "    #     self.blood_pressure = blood_pressure\n",
    "    #     self.blood_glucose = blood_glucose\n",
    "    #     self.pulse = pulse\n",
    "    #     self.oxygen_level = oxygen_level\n",
    "\n",
    "    def to_string(self):\n",
    "        return (self.patientId+\",\" + \n",
    "        self.name+\",\" +\n",
    "        self.age+\",\" +\n",
    "        self.weight+\",\" +\n",
    "        self.height+\",\" +\n",
    "        self.female+\",\" +\n",
    "        self.blood_pressure+\",\" +\n",
    "        self.blood_glucose+\",\" +\n",
    "        self.pulse+\",\" +\n",
    "        self.oxygen_level)\n",
    "\n",
    "    def to_byte(self):\n",
    "        return bytes(self.to_string(),\"UTF-8\") \n",
    "    \n",
    "    def string2obj(self, data):\n",
    "        patientId,name,age,weight,height,female,blood_pressure,blood_glucose,pulse,oxygen_level = data.split(\",\")\n",
    "        self.patientId = patientId\n",
    "        self.name = name\n",
    "        self.age = age\n",
    "        self.weight = weight\n",
    "        self.height = height\n",
    "        self.female = female\n",
    "        self.blood_pressure = blood_pressure\n",
    "        self.blood_glucose = blood_glucose\n",
    "        self.pulse = pulse\n",
    "        self.oxygen_level = oxygen_level\n",
    "\n"
   ]
  },
  {
   "cell_type": "code",
   "execution_count": 11,
   "metadata": {},
   "outputs": [
    {
     "data": {
      "text/plain": [
       "'1'"
      ]
     },
     "execution_count": 11,
     "metadata": {},
     "output_type": "execute_result"
    }
   ],
   "source": [
    "p.string2obj(\"1,a,1,2,3,4,5,6,7,8\")\n",
    "p.age"
   ]
  },
  {
   "cell_type": "code",
   "execution_count": 12,
   "metadata": {},
   "outputs": [
    {
     "data": {
      "text/plain": [
       "'1,a,1,2,3,4,5,6,7,8'"
      ]
     },
     "execution_count": 12,
     "metadata": {},
     "output_type": "execute_result"
    }
   ],
   "source": [
    "p.to_string()"
   ]
  },
  {
   "cell_type": "code",
   "execution_count": 14,
   "metadata": {},
   "outputs": [
    {
     "name": "stdout",
     "output_type": "stream",
     "text": [
      "<class 'bytes'>\n"
     ]
    }
   ],
   "source": [
    "var = p.to_byte()\n",
    "print(type(var))"
   ]
  },
  {
   "cell_type": "code",
   "execution_count": 3,
   "metadata": {},
   "outputs": [
    {
     "data": {
      "text/plain": [
       "hash    0xdc63683bf5eaa84b85458568812d901dd85fa1686448...\n",
       "Name: 4, dtype: object"
      ]
     },
     "execution_count": 3,
     "metadata": {},
     "output_type": "execute_result"
    }
   ],
   "source": [
    "import hashRecordTracker\n",
    "num =input(\"enter id\")\n",
    "hashRecordTracker.get_patient_hash(4)"
   ]
  },
  {
   "cell_type": "code",
   "execution_count": 18,
   "metadata": {},
   "outputs": [
    {
     "name": "stdout",
     "output_type": "stream",
     "text": [
      "Collecting py-solc-x\n",
      "  Using cached py_solc_x-1.1.1-py3-none-any.whl (15 kB)\n",
      "Collecting semantic-version<3,>=2.8.1\n",
      "  Using cached semantic_version-2.10.0-py2.py3-none-any.whl (15 kB)\n",
      "Requirement already satisfied: requests<3,>=2.19.0 in c:\\users\\salma\\anaconda3\\envs\\tf-gpu\\lib\\site-packages (from py-solc-x) (2.25.1)\n",
      "Requirement already satisfied: idna<3,>=2.5 in c:\\users\\salma\\anaconda3\\envs\\tf-gpu\\lib\\site-packages (from requests<3,>=2.19.0->py-solc-x) (2.10)\n",
      "Requirement already satisfied: urllib3<1.27,>=1.21.1 in c:\\users\\salma\\anaconda3\\envs\\tf-gpu\\lib\\site-packages (from requests<3,>=2.19.0->py-solc-x) (1.26.4)\n",
      "Requirement already satisfied: chardet<5,>=3.0.2 in c:\\users\\salma\\anaconda3\\envs\\tf-gpu\\lib\\site-packages (from requests<3,>=2.19.0->py-solc-x) (4.0.0)\n",
      "Requirement already satisfied: certifi>=2017.4.17 in c:\\users\\salma\\anaconda3\\envs\\tf-gpu\\lib\\site-packages (from requests<3,>=2.19.0->py-solc-x) (2021.10.8)\n",
      "Installing collected packages: semantic-version, py-solc-x\n",
      "Successfully installed py-solc-x-1.1.1 semantic-version-2.10.0\n"
     ]
    },
    {
     "name": "stderr",
     "output_type": "stream",
     "text": [
      "WARNING: You are using pip version 21.3.1; however, version 22.1.2 is available.\n",
      "You should consider upgrading via the 'c:\\users\\salma\\anaconda3\\envs\\tf-gpu\\python.exe -m pip install --upgrade pip' command.\n"
     ]
    },
    {
     "data": {
      "text/plain": [
       "Version('0.8.0')"
      ]
     },
     "execution_count": 18,
     "metadata": {},
     "output_type": "execute_result"
    }
   ],
   "source": [
    "!pip install py-solc-x\n",
    "from solcx import compile_standard, install_solc\n",
    "install_solc('0.8.0')\n"
   ]
  },
  {
   "cell_type": "code",
   "execution_count": 23,
   "metadata": {},
   "outputs": [
    {
     "ename": "ModuleNotFoundError",
     "evalue": "No module named 'web3'",
     "output_type": "error",
     "traceback": [
      "\u001b[1;31m---------------------------------------------------------------------------\u001b[0m",
      "\u001b[1;31mModuleNotFoundError\u001b[0m                       Traceback (most recent call last)",
      "\u001b[1;32m~\\AppData\\Local\\Temp\\ipykernel_6796\\2080188480.py\u001b[0m in \u001b[0;36m<module>\u001b[1;34m\u001b[0m\n\u001b[1;32m----> 1\u001b[1;33m \u001b[1;32mimport\u001b[0m \u001b[0mweb3\u001b[0m\u001b[1;33m\u001b[0m\u001b[1;33m\u001b[0m\u001b[0m\n\u001b[0m\u001b[0;32m      2\u001b[0m \u001b[1;32mfrom\u001b[0m \u001b[0mweb3\u001b[0m \u001b[1;32mimport\u001b[0m \u001b[0mWeb3\u001b[0m\u001b[1;33m\u001b[0m\u001b[1;33m\u001b[0m\u001b[0m\n\u001b[0;32m      3\u001b[0m \u001b[1;32mimport\u001b[0m \u001b[0mhashRecordTracker\u001b[0m\u001b[1;33m\u001b[0m\u001b[1;33m\u001b[0m\u001b[0m\n\u001b[0;32m      4\u001b[0m \u001b[1;32mimport\u001b[0m \u001b[0mjson\u001b[0m\u001b[1;33m\u001b[0m\u001b[1;33m\u001b[0m\u001b[0m\n\u001b[0;32m      5\u001b[0m \u001b[1;32mimport\u001b[0m \u001b[0mos\u001b[0m\u001b[1;33m\u001b[0m\u001b[1;33m\u001b[0m\u001b[0m\n",
      "\u001b[1;31mModuleNotFoundError\u001b[0m: No module named 'web3'"
     ]
    }
   ],
   "source": [
    "import web3\n",
    "from web3 import Web3\n",
    "import hashRecordTracker\n",
    "import json\n",
    "import os\n",
    "import csv\n",
    "import rsa\n",
    "from dotenv import load_dotenv\n",
    "from ast import literal_eval "
   ]
  },
  {
   "cell_type": "code",
   "execution_count": 21,
   "metadata": {},
   "outputs": [
    {
     "ename": "ModuleNotFoundError",
     "evalue": "No module named 'web3'",
     "output_type": "error",
     "traceback": [
      "\u001b[1;31m---------------------------------------------------------------------------\u001b[0m",
      "\u001b[1;31mModuleNotFoundError\u001b[0m                       Traceback (most recent call last)",
      "\u001b[1;32m~\\AppData\\Local\\Temp\\ipykernel_6796\\1608782501.py\u001b[0m in \u001b[0;36m<module>\u001b[1;34m\u001b[0m\n\u001b[0;32m      1\u001b[0m \u001b[1;32mimport\u001b[0m \u001b[0mgetInitialRecord\u001b[0m\u001b[1;33m\u001b[0m\u001b[1;33m\u001b[0m\u001b[0m\n\u001b[1;32m----> 2\u001b[1;33m \u001b[0mgetInitialRecord\u001b[0m\u001b[1;33m.\u001b[0m\u001b[0m__main__\u001b[0m\u001b[1;33m(\u001b[0m\u001b[1;36m4\u001b[0m\u001b[1;33m)\u001b[0m\u001b[1;33m\u001b[0m\u001b[1;33m\u001b[0m\u001b[0m\n\u001b[0m",
      "\u001b[1;32md:\\salma\\UNI\\Sem10\\Security\\Project\\EHR\\web3_storage\\getInitialRecord.py\u001b[0m in \u001b[0;36m__main__\u001b[1;34m(patient_id)\u001b[0m\n\u001b[0;32m      2\u001b[0m \u001b[1;33m\u001b[0m\u001b[0m\n\u001b[0;32m      3\u001b[0m \u001b[1;32mdef\u001b[0m \u001b[0m__main__\u001b[0m\u001b[1;33m(\u001b[0m\u001b[0mpatient_id\u001b[0m\u001b[1;33m)\u001b[0m\u001b[1;33m:\u001b[0m\u001b[1;33m\u001b[0m\u001b[1;33m\u001b[0m\u001b[0m\n\u001b[1;32m----> 4\u001b[1;33m     \u001b[1;32mfrom\u001b[0m \u001b[0msolcx\u001b[0m \u001b[1;32mimport\u001b[0m \u001b[0mcompile_standard\u001b[0m\u001b[1;33m,\u001b[0m \u001b[0minstall_solc\u001b[0m\u001b[1;33m\u001b[0m\u001b[1;33m\u001b[0m\u001b[0m\n\u001b[0m\u001b[0;32m      5\u001b[0m     \u001b[1;32mimport\u001b[0m \u001b[0mweb3\u001b[0m\u001b[1;33m\u001b[0m\u001b[1;33m\u001b[0m\u001b[0m\n\u001b[0;32m      6\u001b[0m     \u001b[1;32mfrom\u001b[0m \u001b[0mweb3\u001b[0m \u001b[1;32mimport\u001b[0m \u001b[0mWeb3\u001b[0m\u001b[1;33m\u001b[0m\u001b[1;33m\u001b[0m\u001b[0m\n",
      "\u001b[1;31mModuleNotFoundError\u001b[0m: No module named 'web3'"
     ]
    }
   ],
   "source": [
    "import getInitialRecord\n",
    "getInitialRecord.__main__(4)"
   ]
  }
 ],
 "metadata": {
  "interpreter": {
   "hash": "5a8635f9a14de6a8d3b8d53362d46be99bf1a0f38313479f2211f00056e130c8"
  },
  "kernelspec": {
   "display_name": "Python 3.7.3 ('tf-gpu')",
   "language": "python",
   "name": "python3"
  },
  "language_info": {
   "codemirror_mode": {
    "name": "ipython",
    "version": 3
   },
   "file_extension": ".py",
   "mimetype": "text/x-python",
   "name": "python",
   "nbconvert_exporter": "python",
   "pygments_lexer": "ipython3",
   "version": "3.7.3"
  },
  "orig_nbformat": 4
 },
 "nbformat": 4,
 "nbformat_minor": 2
}
