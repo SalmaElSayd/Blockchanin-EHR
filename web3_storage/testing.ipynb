{
 "cells": [
  {
   "cell_type": "code",
   "execution_count": null,
   "metadata": {},
   "outputs": [
    {
     "ename": "",
     "evalue": "",
     "output_type": "error",
     "traceback": [
      "\u001b[1;31mCanceled future for execute_request message before replies were done"
     ]
    },
    {
     "ename": "",
     "evalue": "",
     "output_type": "error",
     "traceback": [
      "\u001b[1;31mThe Kernel crashed while executing code in the the current cell or a previous cell. Please review the code in the cell(s) to identify a possible cause of the failure. Click <a href='https://aka.ms/vscodeJupyterKernelCrash'>here</a> for more info. View Jupyter <a href='command:jupyter.viewOutput'>log</a> for further details."
     ]
    }
   ],
   "source": [
    "from saveInitialRecord import initial_record\n",
    "\n",
    "p=initial_record()\n",
    "p"
   ]
  },
  {
   "cell_type": "code",
   "execution_count": 5,
   "metadata": {},
   "outputs": [],
   "source": [
    "class initial_record:\n",
    "\n",
    "    def __init__(self):\n",
    "        pass\n",
    "    # def __init__(self,patientId,name,age,weight,height,female,blood_pressure,blood_glucose,pulse,oxygen_level ):\n",
    "    #     self.patientId = patientId\n",
    "    #     self.name = name\n",
    "    #     self.age = age\n",
    "    #     self.weight = weight\n",
    "    #     self.height = height\n",
    "    #     self.female = female\n",
    "    #     self.blood_pressure = blood_pressure\n",
    "    #     self.blood_glucose = blood_glucose\n",
    "    #     self.pulse = pulse\n",
    "    #     self.oxygen_level = oxygen_level\n",
    "\n",
    "    def to_string(self):\n",
    "        return (self.patientId+\",\" + \n",
    "        self.name+\",\" +\n",
    "        self.age+\",\" +\n",
    "        self.weight+\",\" +\n",
    "        self.height+\",\" +\n",
    "        self.female+\",\" +\n",
    "        self.blood_pressure+\",\" +\n",
    "        self.blood_glucose+\",\" +\n",
    "        self.pulse+\",\" +\n",
    "        self.oxygen_level)\n",
    "\n",
    "    def to_byte(self):\n",
    "        return bytes(self.to_string(),\"UTF-8\") \n",
    "    \n",
    "    def string2obj(self, data):\n",
    "        patientId,name,age,weight,height,female,blood_pressure,blood_glucose,pulse,oxygen_level = data.split(\",\")\n",
    "        self.patientId = patientId\n",
    "        self.name = name\n",
    "        self.age = age\n",
    "        self.weight = weight\n",
    "        self.height = height\n",
    "        self.female = female\n",
    "        self.blood_pressure = blood_pressure\n",
    "        self.blood_glucose = blood_glucose\n",
    "        self.pulse = pulse\n",
    "        self.oxygen_level = oxygen_level\n",
    "\n"
   ]
  },
  {
   "cell_type": "code",
   "execution_count": 11,
   "metadata": {},
   "outputs": [
    {
     "data": {
      "text/plain": [
       "'1'"
      ]
     },
     "execution_count": 11,
     "metadata": {},
     "output_type": "execute_result"
    }
   ],
   "source": [
    "p.string2obj(\"1,a,1,2,3,4,5,6,7,8\")\n",
    "p.age"
   ]
  },
  {
   "cell_type": "code",
   "execution_count": 12,
   "metadata": {},
   "outputs": [
    {
     "data": {
      "text/plain": [
       "'1,a,1,2,3,4,5,6,7,8'"
      ]
     },
     "execution_count": 12,
     "metadata": {},
     "output_type": "execute_result"
    }
   ],
   "source": [
    "p.to_string()"
   ]
  },
  {
   "cell_type": "code",
   "execution_count": 14,
   "metadata": {},
   "outputs": [
    {
     "name": "stdout",
     "output_type": "stream",
     "text": [
      "<class 'bytes'>\n"
     ]
    }
   ],
   "source": [
    "var = p.to_byte()\n",
    "print(type(var))"
   ]
  },
  {
   "cell_type": "code",
   "execution_count": null,
   "metadata": {},
   "outputs": [],
   "source": []
  }
 ],
 "metadata": {
  "interpreter": {
   "hash": "5a8635f9a14de6a8d3b8d53362d46be99bf1a0f38313479f2211f00056e130c8"
  },
  "kernelspec": {
   "display_name": "Python 3.7.3 ('tf-gpu')",
   "language": "python",
   "name": "python3"
  },
  "language_info": {
   "codemirror_mode": {
    "name": "ipython",
    "version": 3
   },
   "file_extension": ".py",
   "mimetype": "text/x-python",
   "name": "python",
   "nbconvert_exporter": "python",
   "pygments_lexer": "ipython3",
   "version": "3.7.3"
  },
  "orig_nbformat": 4
 },
 "nbformat": 4,
 "nbformat_minor": 2
}
